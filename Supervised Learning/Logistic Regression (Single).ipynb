{
 "cells": [
  {
   "cell_type": "code",
   "execution_count": 1,
   "metadata": {},
   "outputs": [
    {
     "data": {
      "text/html": [
       "<div>\n",
       "<style scoped>\n",
       "    .dataframe tbody tr th:only-of-type {\n",
       "        vertical-align: middle;\n",
       "    }\n",
       "\n",
       "    .dataframe tbody tr th {\n",
       "        vertical-align: top;\n",
       "    }\n",
       "\n",
       "    .dataframe thead th {\n",
       "        text-align: right;\n",
       "    }\n",
       "</style>\n",
       "<table border=\"1\" class=\"dataframe\">\n",
       "  <thead>\n",
       "    <tr style=\"text-align: right;\">\n",
       "      <th></th>\n",
       "      <th>city</th>\n",
       "      <th>People</th>\n",
       "      <th>Planet</th>\n",
       "      <th>Profit</th>\n",
       "      <th>Overall</th>\n",
       "      <th>Country</th>\n",
       "      <th>Continent</th>\n",
       "    </tr>\n",
       "  </thead>\n",
       "  <tbody>\n",
       "    <tr>\n",
       "      <th>0</th>\n",
       "      <td>Zurich</td>\n",
       "      <td>27</td>\n",
       "      <td>1</td>\n",
       "      <td>5</td>\n",
       "      <td>1</td>\n",
       "      <td>Switzerland</td>\n",
       "      <td>Europe</td>\n",
       "    </tr>\n",
       "    <tr>\n",
       "      <th>1</th>\n",
       "      <td>Singapore</td>\n",
       "      <td>48</td>\n",
       "      <td>12</td>\n",
       "      <td>1</td>\n",
       "      <td>2</td>\n",
       "      <td>Singapore</td>\n",
       "      <td>Asia</td>\n",
       "    </tr>\n",
       "    <tr>\n",
       "      <th>2</th>\n",
       "      <td>Stockholm</td>\n",
       "      <td>14</td>\n",
       "      <td>2</td>\n",
       "      <td>10</td>\n",
       "      <td>3</td>\n",
       "      <td>Sweden</td>\n",
       "      <td>Europe</td>\n",
       "    </tr>\n",
       "    <tr>\n",
       "      <th>3</th>\n",
       "      <td>Vienna</td>\n",
       "      <td>4</td>\n",
       "      <td>4</td>\n",
       "      <td>14</td>\n",
       "      <td>4</td>\n",
       "      <td>Austria</td>\n",
       "      <td>Europe</td>\n",
       "    </tr>\n",
       "    <tr>\n",
       "      <th>4</th>\n",
       "      <td>London</td>\n",
       "      <td>37</td>\n",
       "      <td>9</td>\n",
       "      <td>3</td>\n",
       "      <td>5</td>\n",
       "      <td>U.K.</td>\n",
       "      <td>Europe</td>\n",
       "    </tr>\n",
       "    <tr>\n",
       "      <th>...</th>\n",
       "      <td>...</td>\n",
       "      <td>...</td>\n",
       "      <td>...</td>\n",
       "      <td>...</td>\n",
       "      <td>...</td>\n",
       "      <td>...</td>\n",
       "      <td>...</td>\n",
       "    </tr>\n",
       "    <tr>\n",
       "      <th>95</th>\n",
       "      <td>Manila</td>\n",
       "      <td>94</td>\n",
       "      <td>86</td>\n",
       "      <td>91</td>\n",
       "      <td>96</td>\n",
       "      <td>Philippines</td>\n",
       "      <td>Asia</td>\n",
       "    </tr>\n",
       "    <tr>\n",
       "      <th>96</th>\n",
       "      <td>New Delhi</td>\n",
       "      <td>87</td>\n",
       "      <td>90</td>\n",
       "      <td>96</td>\n",
       "      <td>97</td>\n",
       "      <td>India</td>\n",
       "      <td>Asia</td>\n",
       "    </tr>\n",
       "    <tr>\n",
       "      <th>97</th>\n",
       "      <td>Nairobi</td>\n",
       "      <td>98</td>\n",
       "      <td>83</td>\n",
       "      <td>90</td>\n",
       "      <td>98</td>\n",
       "      <td>Kenya</td>\n",
       "      <td>Africa</td>\n",
       "    </tr>\n",
       "    <tr>\n",
       "      <th>98</th>\n",
       "      <td>Cairo</td>\n",
       "      <td>92</td>\n",
       "      <td>93</td>\n",
       "      <td>98</td>\n",
       "      <td>99</td>\n",
       "      <td>Egypt</td>\n",
       "      <td>Africa</td>\n",
       "    </tr>\n",
       "    <tr>\n",
       "      <th>99</th>\n",
       "      <td>Kolkata</td>\n",
       "      <td>78</td>\n",
       "      <td>100</td>\n",
       "      <td>100</td>\n",
       "      <td>100</td>\n",
       "      <td>India</td>\n",
       "      <td>Asia</td>\n",
       "    </tr>\n",
       "  </tbody>\n",
       "</table>\n",
       "<p>100 rows × 7 columns</p>\n",
       "</div>"
      ],
      "text/plain": [
       "         city  People  Planet  Profit  Overall      Country Continent\n",
       "0      Zurich      27       1       5        1  Switzerland    Europe\n",
       "1   Singapore      48      12       1        2    Singapore      Asia\n",
       "2   Stockholm      14       2      10        3       Sweden    Europe\n",
       "3      Vienna       4       4      14        4      Austria    Europe\n",
       "4      London      37       9       3        5         U.K.    Europe\n",
       "..        ...     ...     ...     ...      ...          ...       ...\n",
       "95     Manila      94      86      91       96  Philippines      Asia\n",
       "96  New Delhi      87      90      96       97        India      Asia\n",
       "97    Nairobi      98      83      90       98        Kenya    Africa\n",
       "98      Cairo      92      93      98       99        Egypt    Africa\n",
       "99    Kolkata      78     100     100      100        India      Asia\n",
       "\n",
       "[100 rows x 7 columns]"
      ]
     },
     "execution_count": 1,
     "metadata": {},
     "output_type": "execute_result"
    }
   ],
   "source": [
    "data = pd.read_csv(\"Data set/GreenCities-Data.csv\")\n",
    "data"
   ]
  },
  {
   "cell_type": "code",
   "execution_count": 4,
   "metadata": {},
   "outputs": [
    {
     "name": "stdout",
     "output_type": "stream",
     "text": [
      "            city  People  Planet  Profit  Overall      Country Continent\n",
      "1      Singapore      48      12       1        2    Singapore      Asia\n",
      "6          Seoul       1      26      18        7  South Korea      Asia\n",
      "15     Hong Kong      81      29       2       16        China      Asia\n",
      "40         Macau      69      51      15       41        China      Asia\n",
      "44         Tokyo      44      50      28       45        Japan      Asia\n",
      "47        Taipei      32      71      27       48       Taiwan      Asia\n",
      "54  Kuala Lumpur      53      84      19       55     Malaysia      Asia\n",
      "63      Shenzhen      73      66      56       64        China      Asia\n",
      "66       Bangkok      64      79      53       67     Thailand      Asia\n",
      "72       Beijing      45      97      67       73        China      Asia\n",
      "73      Shanghai      43      91      77       74        China      Asia\n",
      "77     Guangzhou      65      80      78       78        China      Asia\n",
      "84       Tianjin      68      77      87       85        China      Asia\n",
      "86         Hanoi      46      76      94       87      Vietnam      Asia\n",
      "87       Jakarta      58      85      88       88    Indonesia      Asia\n",
      "88       Chennai      76      69      95       89        India      Asia\n",
      "90     Bengaluru      75      62      99       91        India      Asia\n",
      "91        Mumbai      86      75      93       92        India      Asia\n",
      "92       Chengdu      63      92      92       93        China      Asia\n",
      "93         Wuhan      62      99      89       94        China      Asia\n",
      "95        Manila      94      86      91       96  Philippines      Asia\n",
      "96     New Delhi      87      90      96       97        India      Asia\n",
      "99       Kolkata      78     100     100      100        India      Asia\n",
      "0         Zurich      27       1       5        1  Switzerland    Europe\n",
      "2      Stockholm      14       2      10        3       Sweden    Europe\n",
      "3         Vienna       4       4      14        4      Austria    Europe\n",
      "4         London      37       9       3        5         U.K.    Europe\n",
      "5      Frankfurt      16       5      23        6      Germany    Europe\n",
      "7        Hamburg       3      10      25        8      Germany    Europe\n",
      "8         Prague       6      31       7        9      Czechia    Europe\n",
      "9         Munich       8      24      11       10      Germany    Europe\n",
      "10     Amsterdam       7      19      16       11  Netherlands    Europe\n",
      "11        Geneva      30       3      42       12  Switzerland    Europe\n",
      "12     Edinburgh      38      22       6       13         U.K.    Europe\n",
      "13    Copenhagen      24      13      17       14      Denmark    Europe\n",
      "14         Paris      20      32       9       15       France    Europe\n",
      "16        Berlin       5      16      32       17      Germany    Europe\n",
      "18     Rotterdam       2      17      46       19  Netherlands    Europe\n",
      "19        Madrid      18      11      34       20        Spain    Europe\n",
      "21          Rome      33       7      49       22        Italy    Europe\n",
      "23     Barcelona      13      23      43       24        Spain    Europe\n",
      "24    Manchester      31      14      51       25         U.K.    Europe\n",
      "28       Antwerp      11      37      40       29      Belgium    Europe\n",
      "30    Birmingham      28      15      60       31         U.K.    Europe\n",
      "34        Dublin      39      39      39       35      Ireland    Europe\n",
      "35       Glasgow      42      20      64       36         U.K.    Europe\n",
      "36        Warsaw      15      54      36       37       Poland    Europe\n",
      "37         Leeds      26      21      69       38         U.K.    Europe\n",
      "39      Brussels      12      34      66       40      Belgium    Europe\n",
      "41         Milan      34      36      57       42        Italy    Europe\n",
      "45        Lisbon      29      43      61       46     Portugal    Europe\n",
      "46          Lyon      19      40      71       47       France    Europe\n",
      "56        Moscow      35      87      44       57       Russia    Europe\n",
      "65        Athens      52      52      72       66       Greece    Europe\n",
      "76      Istanbul      90      74      75       77       Turkey    Europe\n"
     ]
    },
    {
     "data": {
      "image/png": "[encoded data removed]",
      "text/plain": [
       "<Figure size 936x504 with 1 Axes>"
      ]
     },
     "metadata": {
      "needs_background": "light"
     },
     "output_type": "display_data"
    }
   ],
   "source": [
    "df = pd.DataFrame(data)\n",
    "\n",
    "asia_group = df.loc[df['Continent'] == 'Asia']\n",
    "europe_group = df.loc[df['Continent'] == 'Europe']\n",
    "\n",
    "df = pd.concat([asia_group, europe_group])\n",
    "grouped = df.groupby('Continent')\n",
    "\n",
    "print(df)\n",
    "\n",
    "continent_color = {\"Asia\": 'red', 'Europe': 'blue'}\n",
    "\n",
    "plt.figure(figsize=(13, 7))\n",
    "\n",
    "for idx, item in grouped:\n",
    "    if idx == 'Asia' or idx == 'Europe':\n",
    "        plt.scatter('Planet', 'Profit', data = item, label = idx, c = continent_color[idx])\n",
    "\n",
    "plt.xlabel('Planet')\n",
    "plt.ylabel('Profit')\n",
    "plt.legend()\n",
    "plt.show()"
   ]
  },
  {
   "cell_type": "code",
   "execution_count": 5,
   "metadata": {},
   "outputs": [],
   "source": [
    "# sigmoid function\n",
    "def sigmoid(x):\n",
    "    return 1 / (1+np.exp(-x))"
   ]
  },
  {
   "cell_type": "code",
   "execution_count": 12,
   "metadata": {},
   "outputs": [
    {
     "name": "stdout",
     "output_type": "stream",
     "text": [
      "0    0.872248\n",
      "1    0.559272\n",
      "2    0.892860\n",
      "dtype: float64\n",
      "55\n"
     ]
    }
   ],
   "source": [
    "m = len(df)  # number of data\n",
    "\n",
    "w = pd.Series([np.random.rand(),np.random.rand(),np.random.rand()]) \n",
    "\n",
    "echo = int(1e6)\n",
    "learning_rate = 0.05\n",
    "\n",
    "print(w)\n",
    "print(m)"
   ]
  },
  {
   "cell_type": "code",
   "execution_count": 13,
   "metadata": {},
   "outputs": [
    {
     "name": "stdout",
     "output_type": "stream",
     "text": [
      "0   -39.106905\n",
      "1     1.022163\n",
      "2    -0.377866\n",
      "dtype: float64\n"
     ]
    }
   ],
   "source": [
    "# gradient\n",
    "for iter in range(echo):\n",
    "    temp = np.array([[1] * m, df.Planet, df.Profit])\n",
    "    w_dot = w.dot(temp)\n",
    "    \n",
    "    # cost function\n",
    "    h = np.array(sigmoid(w_dot))\n",
    "    \n",
    "    y = [1 if x == 'Asia' else 0 for x in df.Continent]\n",
    "    \n",
    "    h -= y\n",
    "    \n",
    "    delta_w0 = learning_rate * sum(h)\n",
    "    delta_w1 = learning_rate * h.dot(df.Planet)\n",
    "    delta_w2 = learning_rate * h.dot(df.Profit)\n",
    "    \n",
    "    # update w0, w1, w2\n",
    "    w[0] = w[0] - delta_w0 / m\n",
    "    w[1] = w[1] - delta_w1 / m\n",
    "    w[2] = w[2] - delta_w2 / m\n",
    "    \n",
    "print(w)"
   ]
  },
  {
   "cell_type": "code",
   "execution_count": 14,
   "metadata": {},
   "outputs": [
    {
     "data": {
      "text/plain": [
       "array([  1.        ,   3.02040816,   5.04081633,   7.06122449,\n",
       "         9.08163265,  11.10204082,  13.12244898,  15.14285714,\n",
       "        17.16326531,  19.18367347,  21.20408163,  23.2244898 ,\n",
       "        25.24489796,  27.26530612,  29.28571429,  31.30612245,\n",
       "        33.32653061,  35.34693878,  37.36734694,  39.3877551 ,\n",
       "        41.40816327,  43.42857143,  45.44897959,  47.46938776,\n",
       "        49.48979592,  51.51020408,  53.53061224,  55.55102041,\n",
       "        57.57142857,  59.59183673,  61.6122449 ,  63.63265306,\n",
       "        65.65306122,  67.67346939,  69.69387755,  71.71428571,\n",
       "        73.73469388,  75.75510204,  77.7755102 ,  79.79591837,\n",
       "        81.81632653,  83.83673469,  85.85714286,  87.87755102,\n",
       "        89.89795918,  91.91836735,  93.93877551,  95.95918367,\n",
       "        97.97959184, 100.        ])"
      ]
     },
     "execution_count": 14,
     "metadata": {},
     "output_type": "execute_result"
    }
   ],
   "source": [
    "x_range = np.linspace(min(df.Planet), max(df.Planet))\n",
    "\n",
    "x_range"
   ]
  },
  {
   "cell_type": "code",
   "execution_count": 15,
   "metadata": {},
   "outputs": [
    {
     "data": {
      "image/png": "[encoded data removed]",
      "text/plain": [
       "<Figure size 936x576 with 1 Axes>"
      ]
     },
     "metadata": {
      "needs_background": "light"
     },
     "output_type": "display_data"
    }
   ],
   "source": [
    "plt.figure(figsize=(13, 8))\n",
    "continet_color = {\"Asia\": 'red', \"Europe\": \"blue\"}\n",
    "\n",
    "for idx, item in grouped:\n",
    "    if idx == 'Asia' or idx == 'Europe':\n",
    "        plt.scatter('Planet', 'Profit', data = item, label = idx, c = continet_color[idx])\n",
    "        \n",
    "x_range = np.linspace(min(df.Planet), max(df.Planet))\n",
    "y_range = -(w[0] + w[1]*x_range) / w[2]\n",
    "\n",
    "plt.plot(x_range, y_range, color = 'orange')\n",
    "\n",
    "plt.xlabel('Planet')\n",
    "plt.ylabel('Profit')\n",
    "plt.legend()\n",
    "plt.show()"
   ]
  },
  {
   "cell_type": "code",
   "execution_count": null,
   "metadata": {},
   "outputs": [],
   "source": []
  }
 ],
 "metadata": {
  "kernelspec": {
   "display_name": "Python 3 (ipykernel)",
   "language": "python",
   "name": "python3"
  },
  "language_info": {
   "codemirror_mode": {
    "name": "ipython",
    "version": 3
   },
   "file_extension": ".py",
   "mimetype": "text/x-python",
   "name": "python",
   "nbconvert_exporter": "python",
   "pygments_lexer": "ipython3",
   "version": "3.9.12"
  },
  "vscode": {
   "interpreter": {
    "hash": "83149a72c94cc302baeb19f6002087df4c0e78fe4690d8edf01147d5ada5c48a"
   }
  }
 },
 "nbformat": 4,
 "nbformat_minor": 2
}
