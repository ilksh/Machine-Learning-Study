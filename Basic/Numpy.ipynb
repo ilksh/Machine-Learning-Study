{
 "cells": [
  {
   "cell_type": "markdown",
   "id": "9c326f6b",
   "metadata": {},
   "source": [
    "### Numpy\n",
    "\n",
    "- Fast\n",
    "    - complied using C, C++, Fortran\n",
    "    - vectorized code\n",
    "- Easy to perform mathematical operation (Linear Algebra)\n",
    "- Express data as Matrix"
   ]
  },
  {
   "cell_type": "markdown",
   "id": "83f31d16",
   "metadata": {},
   "source": [
    "#### 1. Matrix\n",
    "- 1.1) Generate matrix: np.array, np.zeros, np.ones, np.arange\n",
    "- 1.2) Shape\n",
    "- 1.3) Indexing\n",
    "\n",
    "#### 2. Linspace / Logspace\n",
    "- Linspace: returns the value of location or interval which was linearly divided\n",
    "- Logspace: returns the value of location or interval which was divided on a log scale\n",
    "\n",
    "#### 3. Random\n",
    "- 3.1) rand : generate random value with uniform distribution\n",
    "- 3.2) randn :  generate random value with normal distribution\n",
    "- 3.3) randint : generate random integer value with uniform distribution\n",
    "- 3.4) suffle :  suffle the data of matrix\n",
    "- 3.5) choice : select the data with specific probability\n",
    "\n",
    "#### 4. Transpose / Concatenation\n",
    "\n",
    "#### 5.  Add / Delete\n",
    "\n",
    "#### 6. Statistics\n",
    "- 6.1) Basic stats\n",
    "- 6.2) Variance\n",
    "- 6.3) Covariance\n",
    "- 6.4) Correlation Coefficient"
   ]
  },
  {
   "cell_type": "code",
   "execution_count": 1,
   "id": "c51ae4cc",
   "metadata": {},
   "outputs": [],
   "source": [
    "import numpy as np"
   ]
  },
  {
   "cell_type": "code",
   "execution_count": 2,
   "id": "25651837",
   "metadata": {},
   "outputs": [
    {
     "name": "stdout",
     "output_type": "stream",
     "text": [
      "type:  <class 'numpy.ndarray'>\n",
      "[100 200 300]\n",
      "[1 2 3]\n",
      "[4. 5. 6.]\n",
      "[7.+0.j 8.+0.j 9.+0.j]\n"
     ]
    }
   ],
   "source": [
    "# 1. Array\n",
    "# np.array(object, dtype = None)\n",
    "\n",
    "array = np.array([100, 200, 300])\n",
    "print(\"type: \",type(array))\n",
    "print(array)\n",
    "\n",
    "intArray = np.array([1,2,3], dtype = int)\n",
    "print(intArray)\n",
    "\n",
    "floatArray = np.array([4,5,6], dtype = float)\n",
    "print(floatArray)\n",
    "\n",
    "complexArray = np.array([7,8,9], dtype = complex)\n",
    "print(complexArray)"
   ]
  },
  {
   "cell_type": "code",
   "execution_count": 3,
   "id": "6c757815",
   "metadata": {},
   "outputs": [
    {
     "name": "stdout",
     "output_type": "stream",
     "text": [
      "[[0. 0. 0.]\n",
      " [0. 0. 0.]]\n",
      "[0. 0. 0. 0.]\n",
      "[1. 1. 1. 1.]\n"
     ]
    }
   ],
   "source": [
    "# np.zeros(size of matrix)\n",
    "\n",
    "z1 = np.zeros((2,3)) # row = 2, col = 3\n",
    "print(z1)\n",
    "\n",
    "z2 = np.zeros(4)     # row = 1, col = 4\n",
    "print(z2)\n",
    "\n",
    "z3 = np.ones(4)\n",
    "print(z3)"
   ]
  },
  {
   "cell_type": "code",
   "execution_count": 4,
   "id": "7f9e64ef",
   "metadata": {},
   "outputs": [
    {
     "name": "stdout",
     "output_type": "stream",
     "text": [
      "[0 1 2 3 4]\n",
      "[1 3 5 7 9]\n"
     ]
    }
   ],
   "source": [
    "# arrange\n",
    "# np.arange(start, end, step, dtype)\n",
    "\n",
    "ar1 = np.arange(5) \n",
    "print(ar1)\n",
    "\n",
    "ar2 = np.arange(1,10,2)\n",
    "print(ar2)\n"
   ]
  },
  {
   "cell_type": "code",
   "execution_count": 5,
   "id": "43ddf583",
   "metadata": {},
   "outputs": [
    {
     "name": "stdout",
     "output_type": "stream",
     "text": [
      "[ 0  1  2  3  4  5  6  7  8  9 10 11]\n",
      "ndim:  1\n"
     ]
    }
   ],
   "source": [
    "# other function\n",
    "\n",
    "a1 = np.arange(12)\n",
    "print(a1)\n",
    "# ndarray.ndim -> number of dimension\n",
    "print(\"ndim: \",a1.ndim)"
   ]
  },
  {
   "cell_type": "code",
   "execution_count": 6,
   "id": "6d94234d",
   "metadata": {},
   "outputs": [
    {
     "name": "stdout",
     "output_type": "stream",
     "text": [
      "[[ 0  1  2  3]\n",
      " [ 4  5  6  7]\n",
      " [ 8  9 10 11]]\n",
      "(3, 4)\n"
     ]
    }
   ],
   "source": [
    "# ndarray.shape -> (row, col)\n",
    "# ndarray.reshape(row, col) -> new array\n",
    "\n",
    "a2 = a1.reshape(3,4)\n",
    "print(a2)\n",
    "print(a2.shape)"
   ]
  },
  {
   "cell_type": "code",
   "execution_count": 7,
   "id": "b0d304e0",
   "metadata": {},
   "outputs": [
    {
     "name": "stdout",
     "output_type": "stream",
     "text": [
      "[1 2 3]\n",
      "2\n",
      "2\n"
     ]
    }
   ],
   "source": [
    "# indexing \n",
    "ls = np.array([[1,2,3], [4,5,6], [7,8,9]])\n",
    "\n",
    "# select data\n",
    "print(ls[0])\n",
    "print(ls[0][1])\n",
    "print(ls[0,1])"
   ]
  },
  {
   "cell_type": "code",
   "execution_count": 8,
   "id": "c12d1f03",
   "metadata": {},
   "outputs": [
    {
     "name": "stdout",
     "output_type": "stream",
     "text": [
      "[[ 1 99  3]\n",
      " [ 4  5  6]\n",
      " [ 7  8  9]]\n",
      "[[  1  99   3]\n",
      " [100 100 100]\n",
      " [  7   8   9]]\n"
     ]
    }
   ],
   "source": [
    "# modify data\n",
    "ls[0][1] = 99\n",
    "print(ls)\n",
    "# broadcasting\n",
    "ls[1] = 100\n",
    "print(ls)"
   ]
  },
  {
   "cell_type": "code",
   "execution_count": 9,
   "id": "f8cc1669",
   "metadata": {},
   "outputs": [
    {
     "name": "stdout",
     "output_type": "stream",
     "text": [
      "[[100 100 100]\n",
      " [  7   8   9]]\n",
      "[[ 99   3]\n",
      " [100 100]\n",
      " [  8   9]]\n"
     ]
    }
   ],
   "source": [
    "# slicing\n",
    "ls2 = ls[1:]\n",
    "print(ls2)\n",
    "\n",
    "ls3 = ls[...,1:]\n",
    "print(ls3)"
   ]
  },
  {
   "cell_type": "code",
   "execution_count": 10,
   "id": "b353875d",
   "metadata": {},
   "outputs": [
    {
     "data": {
      "text/plain": [
       "array([[False, False, False],\n",
       "       [ True,  True,  True],\n",
       "       [False,  True, False]])"
      ]
     },
     "execution_count": 10,
     "metadata": {},
     "output_type": "execute_result"
    }
   ],
   "source": [
    "condition = ls%2 == 0\n",
    "condition"
   ]
  },
  {
   "cell_type": "code",
   "execution_count": 11,
   "id": "f2a4c956",
   "metadata": {},
   "outputs": [
    {
     "data": {
      "text/plain": [
       "array([[  1,  99,   3],\n",
       "       [999, 999, 999],\n",
       "       [  7, 999,   9]])"
      ]
     },
     "execution_count": 11,
     "metadata": {},
     "output_type": "execute_result"
    }
   ],
   "source": [
    "ls[condition] = 999\n",
    "ls"
   ]
  },
  {
   "cell_type": "code",
   "execution_count": 12,
   "id": "19899b29",
   "metadata": {},
   "outputs": [
    {
     "data": {
      "text/plain": [
       "array([  0.,  25.,  50.,  75., 100.])"
      ]
     },
     "execution_count": 12,
     "metadata": {},
     "output_type": "execute_result"
    }
   ],
   "source": [
    "# 2. Linspace\n",
    "\n",
    "np.linspace(0, 100, 5) # linearly divide in 5 sections"
   ]
  },
  {
   "cell_type": "code",
   "execution_count": 13,
   "id": "508d0b9d",
   "metadata": {},
   "outputs": [
    {
     "data": {
      "text/plain": [
       "array([  100.,  1000., 10000.])"
      ]
     },
     "execution_count": 13,
     "metadata": {},
     "output_type": "execute_result"
    }
   ],
   "source": [
    "# Logspace\n",
    "# log(x1) = start,..... , log(x) = end\n",
    "\n",
    "np.logspace(2,4,3)\n",
    "# log(x1) = 2 -> x1 = 100\n",
    "# log(x2) = 3 -> x2 = 1000\n",
    "# log(x3) = 4 -> x3 = 10000"
   ]
  },
  {
   "cell_type": "code",
   "execution_count": 16,
   "id": "f2afcb80",
   "metadata": {},
   "outputs": [
    {
     "name": "stdout",
     "output_type": "stream",
     "text": [
      "linspace:  400000.0 700000.0\n",
      "logspace:  86796761.08715706 75336777352.2102\n"
     ]
    }
   ],
   "source": [
    "# Let annual salary of n year old sn\n",
    "# 1) s20 = $100,000 and s50 = $1,000,000\n",
    "# 2) there are two cases: annual salary increases linearly and exponentially.\n",
    "# 3) print out s30 and s40 respectively\n",
    "\n",
    "\n",
    "linear = np.linspace(100000, 1000000, 4)\n",
    "print(\"linspace: \",linear[1], linear[2])\n",
    "\n",
    "logarithm = np.logspace(np.log10(100000), np.log(1000000), 4)\n",
    "print(\"logspace: \",logarithm[1], logarithm[2])"
   ]
  },
  {
   "cell_type": "code",
   "execution_count": 17,
   "id": "ecd58004",
   "metadata": {},
   "outputs": [],
   "source": [
    "# 3) Random"
   ]
  },
  {
   "cell_type": "code",
   "execution_count": 20,
   "id": "971623ce",
   "metadata": {},
   "outputs": [
    {
     "data": {
      "text/plain": [
       "array([0.20976093, 0.01100239, 0.80715667, 0.71563352, 0.91365517,\n",
       "       0.91263237, 0.7288488 , 0.8618104 , 0.01084628, 0.55017416])"
      ]
     },
     "execution_count": 20,
     "metadata": {},
     "output_type": "execute_result"
    }
   ],
   "source": [
    "# 3.1) rand: Random values in a given shape.\n",
    "np.random.rand(10)"
   ]
  },
  {
   "cell_type": "code",
   "execution_count": 16,
   "id": "601f98bb",
   "metadata": {},
   "outputs": [
    {
     "data": {
      "text/plain": [
       "array([ 0.83503717, -0.88921958,  0.32419434,  0.54435311,  1.48736103,\n",
       "       -1.28357575,  0.68202543, -0.43902499,  0.11488764, -1.11415689])"
      ]
     },
     "execution_count": 16,
     "metadata": {},
     "output_type": "execute_result"
    }
   ],
   "source": [
    "# 3.2) randn: Return a sample (or samples) from the \"standard normal\" distribution\n",
    "np.random.randn(10)"
   ]
  },
  {
   "cell_type": "code",
   "execution_count": 21,
   "id": "fcfad32a",
   "metadata": {},
   "outputs": [
    {
     "data": {
      "text/plain": [
       "array([[14, 10, -2],\n",
       "       [ 4, 11, -3]])"
      ]
     },
     "execution_count": 21,
     "metadata": {},
     "output_type": "execute_result"
    }
   ],
   "source": [
    "# 3.3) randint(low, high=None, size=None, dtype=int)\n",
    "\n",
    "np.random.randint(-3, 15, (2,3))"
   ]
  },
  {
   "cell_type": "code",
   "execution_count": 22,
   "id": "2a474df9",
   "metadata": {},
   "outputs": [
    {
     "name": "stdout",
     "output_type": "stream",
     "text": [
      "Before shuffle\n",
      "[[1 5 8]\n",
      " [4 6 6]\n",
      " [3 7 1]]\n",
      "\n",
      "After shuffle\n",
      "[[3 7 1]\n",
      " [1 5 8]\n",
      " [4 6 6]]\n"
     ]
    }
   ],
   "source": [
    "# 3.4) Suffle: Modify a sequence in-place by shuffling its contents.\n",
    "\n",
    "prev = np.random.randint(10, size = (3,3))\n",
    "print(\"Before shuffle\")\n",
    "print(prev)\n",
    "\n",
    "print(\"\\nAfter shuffle\")\n",
    "np.random.shuffle(prev)\n",
    "print(prev)"
   ]
  },
  {
   "cell_type": "code",
   "execution_count": 23,
   "id": "e2c425e5",
   "metadata": {},
   "outputs": [
    {
     "data": {
      "text/plain": [
       "array([3, 3, 2, 3, 2, 3, 3, 2, 3, 2])"
      ]
     },
     "execution_count": 23,
     "metadata": {},
     "output_type": "execute_result"
    }
   ],
   "source": [
    "# 3.5) choice\n",
    "# choice(a, n, p)\n",
    "# a = candidate, n = number of num, p = probability\n",
    "np.random.choice(4, 10, p =[0.1, 0.2, 0.3, 0.4])"
   ]
  },
  {
   "cell_type": "code",
   "execution_count": 24,
   "id": "e3da6a79",
   "metadata": {},
   "outputs": [
    {
     "name": "stdout",
     "output_type": "stream",
     "text": [
      "before transpose\n",
      "[[ 0  6 12 18 24]\n",
      " [30 36 42 48 54]\n",
      " [60 66 72 78 84]]\n",
      "\n",
      "after transpose\n",
      "[[ 0 30 60]\n",
      " [ 6 36 66]\n",
      " [12 42 72]\n",
      " [18 48 78]\n",
      " [24 54 84]]\n"
     ]
    }
   ],
   "source": [
    "# 4. Transpose\n",
    "ls = np.arange(0, 90, 6)\n",
    "ls = ls.reshape(3,5)\n",
    "print(\"before transpose\")\n",
    "print(ls)\n",
    "\n",
    "print(\"\\nafter transpose\")\n",
    "ls2 = ls.T\n",
    "print(ls2)"
   ]
  },
  {
   "cell_type": "code",
   "execution_count": 25,
   "id": "136a5ee9",
   "metadata": {},
   "outputs": [
    {
     "name": "stdout",
     "output_type": "stream",
     "text": [
      "[[4 9 1]\n",
      " [5 6 8]\n",
      " [7 3 2]]\n",
      "\n",
      " [[1 0 7]\n",
      " [0 3 8]\n",
      " [0 4 7]]\n"
     ]
    }
   ],
   "source": [
    "# Concatenation\n",
    "\n",
    "matrix1 = np.random.randint(10, size = (3,3))\n",
    "matrix2 = np.random.randint(10, size = (3,3))\n",
    "\n",
    "print(matrix1)\n",
    "print(\"\\n\",matrix2)"
   ]
  },
  {
   "cell_type": "code",
   "execution_count": 26,
   "id": "664ce048",
   "metadata": {},
   "outputs": [
    {
     "data": {
      "text/plain": [
       "array([[4, 9, 1],\n",
       "       [5, 6, 8],\n",
       "       [7, 3, 2],\n",
       "       [1, 0, 7],\n",
       "       [0, 3, 8],\n",
       "       [0, 4, 7]])"
      ]
     },
     "execution_count": 26,
     "metadata": {},
     "output_type": "execute_result"
    }
   ],
   "source": [
    "np.concatenate((matrix1, matrix2))"
   ]
  },
  {
   "cell_type": "code",
   "execution_count": 27,
   "id": "a9b8057f",
   "metadata": {},
   "outputs": [
    {
     "data": {
      "text/plain": [
       "array([[4, 9, 1, 1, 0, 7],\n",
       "       [5, 6, 8, 0, 3, 8],\n",
       "       [7, 3, 2, 0, 4, 7]])"
      ]
     },
     "execution_count": 27,
     "metadata": {},
     "output_type": "execute_result"
    }
   ],
   "source": [
    "np.concatenate((matrix1, matrix2), axis = 1)"
   ]
  },
  {
   "cell_type": "code",
   "execution_count": 28,
   "id": "44298bb2",
   "metadata": {},
   "outputs": [
    {
     "name": "stdout",
     "output_type": "stream",
     "text": [
      "[[1 4]\n",
      " [2 5]\n",
      " [3 6]]\n",
      "[1 2 3 4 5 6]\n"
     ]
    }
   ],
   "source": [
    "# version 2\n",
    "\n",
    "# column concatenate\n",
    "print(np.c_[np.array([1,2,3]), np.array([4,5,6])])\n",
    "\n",
    "# row concatenate\n",
    "print(np.r_[np.array([1,2,3]), np.array([4,5,6])])"
   ]
  },
  {
   "cell_type": "code",
   "execution_count": 29,
   "id": "dcf06e7e",
   "metadata": {},
   "outputs": [
    {
     "data": {
      "text/plain": [
       "array([[10, 11, 12],\n",
       "       [13, 14, 15]])"
      ]
     },
     "execution_count": 29,
     "metadata": {},
     "output_type": "execute_result"
    }
   ],
   "source": [
    "# 5. Add / Delete\n",
    "\n",
    "arr = np.arange(10,16)\n",
    "arr = arr.reshape(2,3)\n",
    "arr"
   ]
  },
  {
   "cell_type": "code",
   "execution_count": 90,
   "id": "13124ec6",
   "metadata": {},
   "outputs": [
    {
     "data": {
      "text/plain": [
       "array([10, 11, 12, 13, 14, 15, 16, 17, 18, 19])"
      ]
     },
     "execution_count": 90,
     "metadata": {},
     "output_type": "execute_result"
    }
   ],
   "source": [
    "np.append(arr, [16,17,18,19])"
   ]
  },
  {
   "cell_type": "code",
   "execution_count": 91,
   "id": "cc2e0f23",
   "metadata": {},
   "outputs": [
    {
     "data": {
      "text/plain": [
       "array([[1, 2, 3],\n",
       "       [4, 5, 6],\n",
       "       [7, 8, 9]])"
      ]
     },
     "execution_count": 91,
     "metadata": {},
     "output_type": "execute_result"
    }
   ],
   "source": [
    "arr = np.arange(1,7)\n",
    "arr = arr.reshape(2,3)\n",
    "\n",
    "np.append(arr, [[7,8,9]], axis = 0)"
   ]
  },
  {
   "cell_type": "code",
   "execution_count": 93,
   "id": "e9995b75",
   "metadata": {},
   "outputs": [
    {
     "data": {
      "text/plain": [
       "array([[ 1,  2,  3,  7,  8,  9],\n",
       "       [ 4,  5,  6, 10, 11, 12]])"
      ]
     },
     "execution_count": 93,
     "metadata": {},
     "output_type": "execute_result"
    }
   ],
   "source": [
    "arr = np.arange(1,7)\n",
    "arr = arr.reshape(2,3)\n",
    "\n",
    "np.append(arr, [[7,8,9],[10,11,12]], axis = 1)"
   ]
  },
  {
   "cell_type": "code",
   "execution_count": 95,
   "id": "16f1c8c0",
   "metadata": {},
   "outputs": [
    {
     "data": {
      "text/plain": [
       "array([1, 2, 7, 8, 9, 3, 4, 5, 6])"
      ]
     },
     "execution_count": 95,
     "metadata": {},
     "output_type": "execute_result"
    }
   ],
   "source": [
    "# insert\n",
    "arr = np.arange(1,7)\n",
    "arr = arr.reshape(2,3)\n",
    "\n",
    "np.insert(arr, 2, [7,8,9])"
   ]
  },
  {
   "cell_type": "code",
   "execution_count": 96,
   "id": "2cf8463e",
   "metadata": {},
   "outputs": [
    {
     "data": {
      "text/plain": [
       "array([[1, 2, 3],\n",
       "       [4, 5, 6],\n",
       "       [7, 8, 9]])"
      ]
     },
     "execution_count": 96,
     "metadata": {},
     "output_type": "execute_result"
    }
   ],
   "source": [
    "arr = np.arange(1,7)\n",
    "arr = arr.reshape(2,3)\n",
    "\n",
    "np.insert(arr, 2, [7,8,9], axis = 0)"
   ]
  },
  {
   "cell_type": "code",
   "execution_count": 99,
   "id": "38ed04f5",
   "metadata": {},
   "outputs": [
    {
     "data": {
      "text/plain": [
       "array([[ 1,  2, 10,  3],\n",
       "       [ 4,  5, 11,  6]])"
      ]
     },
     "execution_count": 99,
     "metadata": {},
     "output_type": "execute_result"
    }
   ],
   "source": [
    "arr = np.arange(1,7)\n",
    "arr = arr.reshape(2,3)\n",
    "\n",
    "np.insert(arr, 2, [10, 11], axis = 1)"
   ]
  },
  {
   "cell_type": "code",
   "execution_count": 102,
   "id": "87dd150c",
   "metadata": {},
   "outputs": [
    {
     "name": "stdout",
     "output_type": "stream",
     "text": [
      "[[1 2 3]\n",
      " [4 5 6]]\n"
     ]
    },
    {
     "data": {
      "text/plain": [
       "array([1, 2, 3, 4, 6])"
      ]
     },
     "execution_count": 102,
     "metadata": {},
     "output_type": "execute_result"
    }
   ],
   "source": [
    "# Delete\n",
    "arr = np.arange(1,7)\n",
    "arr = arr.reshape(2,3)\n",
    "print(arr)\n",
    "\n",
    "# flattended\n",
    "np.delete(arr,3)"
   ]
  },
  {
   "cell_type": "code",
   "execution_count": 105,
   "id": "10bf1ab8",
   "metadata": {},
   "outputs": [
    {
     "name": "stdout",
     "output_type": "stream",
     "text": [
      "[[1 2 3]\n",
      " [4 5 6]]\n"
     ]
    },
    {
     "data": {
      "text/plain": [
       "array([[1, 3],\n",
       "       [4, 6]])"
      ]
     },
     "execution_count": 105,
     "metadata": {},
     "output_type": "execute_result"
    }
   ],
   "source": [
    "arr = np.arange(1,7)\n",
    "arr = arr.reshape(2,3)\n",
    "print(arr)\n",
    "\n",
    "np.delete(arr, 1, axis = 1)"
   ]
  },
  {
   "cell_type": "code",
   "execution_count": 115,
   "id": "83b6c00c",
   "metadata": {},
   "outputs": [
    {
     "name": "stdout",
     "output_type": "stream",
     "text": [
      "[[ 0  1  2  3]\n",
      " [ 4  5  6  7]\n",
      " [ 8  9 10 11]] \n",
      "\n",
      "Average:  5.5\n",
      "Median:  5.5\n",
      "Standard Deciation:  3.452052529534663\n"
     ]
    }
   ],
   "source": [
    "# 6 Statistics\n",
    "\n",
    "# 6.1) Basic stats: Average, Median, Standard Deviation\n",
    "\n",
    "data = np.arange(12)\n",
    "data = data.reshape(3,4)\n",
    "print(data, \"\\n\")\n",
    "print(\"Average: \",np.mean(data))\n",
    "print(\"Median: \",np.median(data))\n",
    "print(\"Standard Deciation: \",np.std(data))"
   ]
  },
  {
   "cell_type": "markdown",
   "id": "38c4838c",
   "metadata": {},
   "source": [
    "- 6.2) Variance\n",
    "- the average of the squared differences from the mean\n",
    "     "
   ]
  },
  {
   "cell_type": "code",
   "execution_count": 130,
   "id": "b9fbaf88",
   "metadata": {},
   "outputs": [
    {
     "name": "stdout",
     "output_type": "stream",
     "text": [
      "Numpy function:  89.96000000000001\n",
      "CPU times: user 1.03 ms, sys: 160 µs, total: 1.19 ms\n",
      "Wall time: 1.13 ms\n"
     ]
    }
   ],
   "source": [
    "%%time\n",
    "print(\"Numpy function: \",np.var(data))"
   ]
  },
  {
   "cell_type": "markdown",
   "id": "ff8f0c54",
   "metadata": {},
   "source": [
    "- 6.3) Covariance\n",
    "- used to determine the relationship between the movements of two random variables\n",
    "\n",
    "- Advantage: able to show the relationship \n",
    "- Disadvantage\n",
    "    - unable to show the strenght of relationship\n",
    "    - larger the value of sample, the more difference the result"
   ]
  },
  {
   "cell_type": "code",
   "execution_count": 139,
   "id": "06df9ee2",
   "metadata": {},
   "outputs": [
    {
     "data": {
      "text/plain": [
       "1060.25"
      ]
     },
     "execution_count": 139,
     "metadata": {},
     "output_type": "execute_result"
    }
   ],
   "source": [
    "data1 = np.array([10, 50, 22, 99, 34])\n",
    "data2 = np.array([77, 64, 22, 122, 4])\n",
    "np.cov(data1, data2)[0,1]"
   ]
  },
  {
   "cell_type": "code",
   "execution_count": 144,
   "id": "c6261adf",
   "metadata": {},
   "outputs": [
    {
     "data": {
      "text/plain": [
       "2.83958550375e+17"
      ]
     },
     "execution_count": 144,
     "metadata": {},
     "output_type": "execute_result"
    }
   ],
   "source": [
    "# Disadvantage\n",
    "\n",
    "data1 = data1 * 100\n",
    "data2 = data2 ** 2\n",
    "\n",
    "np.cov(data1, data2)[0,1]"
   ]
  },
  {
   "cell_type": "markdown",
   "id": "d136a174",
   "metadata": {},
   "source": [
    "- 6.4) Correlation coefficient\n",
    "- statistical measure of the strength of the relationship btw the relative movements of two variables\n",
    "- range: (-1 ~ 1), close to 0 : less related\n",
    "        \n"
   ]
  },
  {
   "cell_type": "code",
   "execution_count": 146,
   "id": "f62f562d",
   "metadata": {},
   "outputs": [
    {
     "data": {
      "text/plain": [
       "(0.7173617704561531, -0.5034101603009543, -0.36680713446840096)"
      ]
     },
     "execution_count": 146,
     "metadata": {},
     "output_type": "execute_result"
    }
   ],
   "source": [
    "data1 = np.array([10, 3, 22, 99, 34])\n",
    "data2 = np.array([77, 64, 22, 122, 84])\n",
    "data3 = np.array([100, 91, 83, 68, 46])\n",
    "\n",
    "np.corrcoef(data1, data2)[0,1], np.corrcoef(data1, data3)[0,1],np.corrcoef(data2, data3)[0,1]"
   ]
  }
 ],
 "metadata": {
  "kernelspec": {
   "display_name": "Python 3 (ipykernel)",
   "language": "python",
   "name": "python3"
  },
  "language_info": {
   "codemirror_mode": {
    "name": "ipython",
    "version": 3
   },
   "file_extension": ".py",
   "mimetype": "text/x-python",
   "name": "python",
   "nbconvert_exporter": "python",
   "pygments_lexer": "ipython3",
   "version": "3.9.7"
  }
 },
 "nbformat": 4,
 "nbformat_minor": 5
}
