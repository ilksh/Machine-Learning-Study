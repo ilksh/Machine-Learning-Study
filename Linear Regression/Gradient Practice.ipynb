{
 "cells": [
  {
   "cell_type": "code",
   "execution_count": 2,
   "id": "3a01a758",
   "metadata": {},
   "outputs": [
    {
     "data": {
      "text/html": [
       "<div>\n",
       "<style scoped>\n",
       "    .dataframe tbody tr th:only-of-type {\n",
       "        vertical-align: middle;\n",
       "    }\n",
       "\n",
       "    .dataframe tbody tr th {\n",
       "        vertical-align: top;\n",
       "    }\n",
       "\n",
       "    .dataframe thead th {\n",
       "        text-align: right;\n",
       "    }\n",
       "</style>\n",
       "<table border=\"1\" class=\"dataframe\">\n",
       "  <thead>\n",
       "    <tr style=\"text-align: right;\">\n",
       "      <th></th>\n",
       "      <th>City</th>\n",
       "      <th>Rank</th>\n",
       "      <th>Sunshine hours(City)</th>\n",
       "      <th>Cost of a bottle of water(City)</th>\n",
       "      <th>Obesity levels(Country)</th>\n",
       "      <th>Life expectancy(years) (Country)</th>\n",
       "      <th>Pollution(Index score) (City)</th>\n",
       "      <th>Annual avg. hours worked</th>\n",
       "      <th>Happiness levels(Country)</th>\n",
       "      <th>Outdoor activities(City)</th>\n",
       "      <th>Number of take out places(City)</th>\n",
       "      <th>Cost of a monthly gym membership(City)</th>\n",
       "    </tr>\n",
       "  </thead>\n",
       "  <tbody>\n",
       "    <tr>\n",
       "      <th>39</th>\n",
       "      <td>Milan</td>\n",
       "      <td>40</td>\n",
       "      <td>1915</td>\n",
       "      <td>£1.15</td>\n",
       "      <td>19.90%</td>\n",
       "      <td>82.7</td>\n",
       "      <td>67.19</td>\n",
       "      <td>1718</td>\n",
       "      <td>6.38</td>\n",
       "      <td>110</td>\n",
       "      <td>2396</td>\n",
       "      <td>£53.49</td>\n",
       "    </tr>\n",
       "    <tr>\n",
       "      <th>40</th>\n",
       "      <td>Washington, D.C.</td>\n",
       "      <td>41</td>\n",
       "      <td>2528</td>\n",
       "      <td>£1.45</td>\n",
       "      <td>36.20%</td>\n",
       "      <td>78.8</td>\n",
       "      <td>39.18</td>\n",
       "      <td>1779</td>\n",
       "      <td>6.94</td>\n",
       "      <td>83</td>\n",
       "      <td>744</td>\n",
       "      <td>£65.99</td>\n",
       "    </tr>\n",
       "    <tr>\n",
       "      <th>41</th>\n",
       "      <td>New York</td>\n",
       "      <td>42</td>\n",
       "      <td>2535</td>\n",
       "      <td>£1.32</td>\n",
       "      <td>36.20%</td>\n",
       "      <td>78.8</td>\n",
       "      <td>57.36</td>\n",
       "      <td>1779</td>\n",
       "      <td>6.94</td>\n",
       "      <td>359</td>\n",
       "      <td>3081</td>\n",
       "      <td>£64.66</td>\n",
       "    </tr>\n",
       "    <tr>\n",
       "      <th>42</th>\n",
       "      <td>Moscow</td>\n",
       "      <td>43</td>\n",
       "      <td>1901</td>\n",
       "      <td>£0.41</td>\n",
       "      <td>23.10%</td>\n",
       "      <td>69.5</td>\n",
       "      <td>57.63</td>\n",
       "      <td>1965</td>\n",
       "      <td>5.54</td>\n",
       "      <td>322</td>\n",
       "      <td>3206</td>\n",
       "      <td>£31.40</td>\n",
       "    </tr>\n",
       "    <tr>\n",
       "      <th>43</th>\n",
       "      <td>Mexico City</td>\n",
       "      <td>44</td>\n",
       "      <td>2555</td>\n",
       "      <td>£0.45</td>\n",
       "      <td>28.90%</td>\n",
       "      <td>76.4</td>\n",
       "      <td>82.78</td>\n",
       "      <td>2137</td>\n",
       "      <td>6.46</td>\n",
       "      <td>192</td>\n",
       "      <td>1313</td>\n",
       "      <td>£41.99</td>\n",
       "    </tr>\n",
       "  </tbody>\n",
       "</table>\n",
       "</div>"
      ],
      "text/plain": [
       "                City  Rank Sunshine hours(City)  \\\n",
       "39             Milan    40                 1915   \n",
       "40  Washington, D.C.    41                 2528   \n",
       "41          New York    42                 2535   \n",
       "42            Moscow    43                 1901   \n",
       "43       Mexico City    44                 2555   \n",
       "\n",
       "   Cost of a bottle of water(City) Obesity levels(Country)  \\\n",
       "39                           £1.15                  19.90%   \n",
       "40                           £1.45                  36.20%   \n",
       "41                           £1.32                  36.20%   \n",
       "42                           £0.41                  23.10%   \n",
       "43                           £0.45                  28.90%   \n",
       "\n",
       "    Life expectancy(years) (Country) Pollution(Index score) (City)  \\\n",
       "39                              82.7                         67.19   \n",
       "40                              78.8                         39.18   \n",
       "41                              78.8                         57.36   \n",
       "42                              69.5                         57.63   \n",
       "43                              76.4                         82.78   \n",
       "\n",
       "   Annual avg. hours worked  Happiness levels(Country)  \\\n",
       "39                     1718                       6.38   \n",
       "40                     1779                       6.94   \n",
       "41                     1779                       6.94   \n",
       "42                     1965                       5.54   \n",
       "43                     2137                       6.46   \n",
       "\n",
       "    Outdoor activities(City)  Number of take out places(City)  \\\n",
       "39                       110                             2396   \n",
       "40                        83                              744   \n",
       "41                       359                             3081   \n",
       "42                       322                             3206   \n",
       "43                       192                             1313   \n",
       "\n",
       "   Cost of a monthly gym membership(City)  \n",
       "39                                 £53.49  \n",
       "40                                 £65.99  \n",
       "41                                 £64.66  \n",
       "42                                 £31.40  \n",
       "43                                 £41.99  "
      ]
     },
     "execution_count": 2,
     "metadata": {},
     "output_type": "execute_result"
    }
   ],
   "source": [
    "data = pd.read_csv(\"Data Set/healthy_lifestyle_city_2021.csv\")\n",
    "data.tail()"
   ]
  },
  {
   "cell_type": "code",
   "execution_count": 22,
   "id": "099ccb84",
   "metadata": {},
   "outputs": [],
   "source": [
    "df = pd.DataFrame(data)\n",
    "x = df['Annual avg. hours worked']\n",
    "y = df['Happiness levels(Country)']"
   ]
  },
  {
   "cell_type": "code",
   "execution_count": 27,
   "id": "6038cfa2",
   "metadata": {},
   "outputs": [
    {
     "data": {
      "text/plain": [
       "<matplotlib.collections.PathCollection at 0x7fcbd599f8e0>"
      ]
     },
     "execution_count": 27,
     "metadata": {},
     "output_type": "execute_result"
    },
    {
     "data": {
      "image/png": "[encoded data removed]",
      "text/plain": [
       "<Figure size 432x288 with 1 Axes>"
      ]
     },
     "metadata": {
      "needs_background": "light"
     },
     "output_type": "display_data"
    }
   ],
   "source": [
    "plt.xlabel('Annual avg. hours worked')\n",
    "plt.ylabel('Happiness levels(Country)')\n",
    "plt.scatter(x,y)"
   ]
  },
  {
   "cell_type": "code",
   "execution_count": 38,
   "id": "7bf8e922",
   "metadata": {},
   "outputs": [],
   "source": [
    "# number of data\n",
    "m = len(x)\n",
    "\n",
    "w0 = 0\n",
    "w1 = 1\n",
    "\n",
    "echo = 100000\n",
    "alpha = 0.00002\n",
    "\n",
    "for _ in range(echo):\n",
    "    delta_w0 = sum(wo + w1 * x_i - y_i for x_i, y_i in zip(x,y))\n",
    "    delta_w1 = sum((wo + w1 * x_i - y_i)*x_i for x_i, y_i in zip(x,y))\n",
    "    \n",
    "    w0_step = alpha * delta_w0/m\n",
    "    w1_step = alpha * delta_w1/m\n",
    "    \n",
    "    temp0 = w0 - w0_step\n",
    "    temp1 = w1 - w1_step\n",
    "    \n",
    "    w0 = temp0\n",
    "    w1 = temp1"
   ]
  },
  {
   "cell_type": "code",
   "execution_count": 40,
   "id": "74bd48bb",
   "metadata": {},
   "outputs": [
    {
     "data": {
      "image/png": "[encoded data removed]",
      "text/plain": [
       "<Figure size 432x288 with 1 Axes>"
      ]
     },
     "metadata": {
      "needs_background": "light"
     },
     "output_type": "display_data"
    }
   ],
   "source": [
    "x_range = np.linspace(min(x), max(x))\n",
    "\n",
    "plt.title('Sccater plot')\n",
    "plt.xlabel('working hours')\n",
    "plt.ylabel('happiness')\n",
    "plt.scatter(x,y)\n",
    "\n",
    "plt.plot(x_range, w0 + w1*x_range, color='red')\n",
    "\n",
    "plt.show()"
   ]
  }
 ],
 "metadata": {
  "kernelspec": {
   "display_name": "Python 3 (ipykernel)",
   "language": "python",
   "name": "python3"
  },
  "language_info": {
   "codemirror_mode": {
    "name": "ipython",
    "version": 3
   },
   "file_extension": ".py",
   "mimetype": "text/x-python",
   "name": "python",
   "nbconvert_exporter": "python",
   "pygments_lexer": "ipython3",
   "version": "3.9.12"
  }
 },
 "nbformat": 4,
 "nbformat_minor": 5
}
