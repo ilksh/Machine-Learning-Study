{
 "cells": [
  {
   "cell_type": "markdown",
   "id": "3eda6b2a",
   "metadata": {},
   "source": [
    "### Linear Regression line\n",
    "- Error\n",
    "- SSE\n",
    "- MSE\n",
    "- Cost Function"
   ]
  },
  {
   "cell_type": "markdown",
   "id": "6b0a8dd2",
   "metadata": {},
   "source": [
    "### 1. Error\n",
    "- Prediction error =e(x_i) = h(x_i) - y_i\n",
    "- Hypothesis function = h(x_i) = a + b*x_i\n",
    "    - a: height, b: slope\n",
    "- Prediction - Real value\n",
    "\n",
    "### 2. SSE: Sum of Squared Error\n",
    "- SSE = sum(ei)** 2 = sum(h(x_i) - y_i)**2\n",
    "\n",
    "### 3. MSE: Mean of SSE\n",
    "- MSE = SSE / m (m: number of data)\n",
    "\n",
    "### 4. Cost function\n",
    "- C = SSE / 2\n",
    "\n",
    "#### Logic\n",
    "- Step 1: Do partial differentiation on 'a'\n",
    "\n",
    "\n",
    "- Step 2: Define a \n",
    "    - a = y_bar - b*x_bar\n",
    "    \n",
    "    \n",
    "- Step 3: Substitute 'a' \n",
    "\n",
    "\n",
    "- Step 4: Do partial differentiation on 'b'\n",
    "\n",
    "\n",
    "- Step 5: Define b \n",
    "    - b = sum((y_i - y_bar)*(x_i - x_bar)) / sum(x_i-x_bar)\n",
    "    \n",
    "    \n",
    "- Step 6: Define linear regression line"
   ]
  },
  {
   "cell_type": "code",
   "execution_count": 2,
   "id": "c497fb00",
   "metadata": {},
   "outputs": [],
   "source": [
    "import numpy as np\n",
    "import pandas as pd\n",
    "import matplotlib.pylab as plt"
   ]
  },
  {
   "cell_type": "code",
   "execution_count": 4,
   "id": "94af93b6",
   "metadata": {},
   "outputs": [
    {
     "data": {
      "image/png": "[encoded data removed]",
      "text/plain": [
       "<Figure size 432x288 with 1 Axes>"
      ]
     },
     "metadata": {
      "needs_background": "light"
     },
     "output_type": "display_data"
    }
   ],
   "source": [
    "x = [130, 165, 150, 150, 140, 198, 220, 215, 225, 190, 170, 160, 150]\n",
    "y = [3504, 3693, 3436, 3433, 3449, 4341, 4354, 4312, 4425, 3850, 3563, 3609, 3761]\n",
    "\n",
    "plt.scatter(x,y)\n",
    "plt.title('Scatter plot')\n",
    "plt.xlabel('x value')\n",
    "plt.ylabel('y value')\n",
    "plt.show()"
   ]
  },
  {
   "cell_type": "code",
   "execution_count": 6,
   "id": "5fc93f84",
   "metadata": {},
   "outputs": [
    {
     "name": "stdout",
     "output_type": "stream",
     "text": [
      "x_bar:  174.07692307692307\n",
      "y_bar:  3825.3846153846152\n"
     ]
    }
   ],
   "source": [
    "# m = number of data\n",
    "m = len(x)\n",
    "x_bar = np.mean(x)\n",
    "y_bar = np.mean(y)\n",
    "\n",
    "print(\"x_bar: \", x_bar)\n",
    "print(\"y_bar: \", y_bar)"
   ]
  },
  {
   "cell_type": "code",
   "execution_count": 12,
   "id": "04d4a3c0",
   "metadata": {},
   "outputs": [
    {
     "name": "stdout",
     "output_type": "stream",
     "text": [
      "Hypothesis function: h(x) = 1849.0412195091553 + 11.353276246743695*x\n"
     ]
    }
   ],
   "source": [
    "# Hypothesis Function\n",
    "# h(x) = a + bx\n",
    "\n",
    "b = sum([(x_i - x_bar) * (y_i - y_bar) for x_i, y_i in zip(x,y)]) / sum((x_i - x_bar)**2 for x_i in x)\n",
    "a = y_bar - b*x_bar\n",
    "\n",
    "print(\"Hypothesis function: h(x) = {} + {}*x\".format(a,b))"
   ]
  },
  {
   "cell_type": "code",
   "execution_count": 15,
   "id": "b912db12",
   "metadata": {},
   "outputs": [
    {
     "data": {
      "image/png": "[encoded data removed]",
      "text/plain": [
       "<Figure size 432x288 with 1 Axes>"
      ]
     },
     "metadata": {
      "needs_background": "light"
     },
     "output_type": "display_data"
    }
   ],
   "source": [
    "x_range = np.linspace(min(x), max(x))\n",
    "\n",
    "plt.scatter(x,y)\n",
    "plt.plot(x_range, a + b*x_range, color='red', label = 'linear regression line')\n",
    "\n",
    "plt.xlabel('x value')\n",
    "plt.ylabel('y value')\n",
    "plt.legend()\n",
    "plt.show()"
   ]
  },
  {
   "cell_type": "code",
   "execution_count": 16,
   "id": "fdbee6b1",
   "metadata": {},
   "outputs": [
    {
     "name": "stdout",
     "output_type": "stream",
     "text": [
      "4.547473508864641e-13\n"
     ]
    }
   ],
   "source": [
    "SSE = sum([a + b*x_i - y_i for x_i, y_i in zip(x, y)])\n",
    "print(SSE)"
   ]
  }
 ],
 "metadata": {
  "kernelspec": {
   "display_name": "Python 3 (ipykernel)",
   "language": "python",
   "name": "python3"
  },
  "language_info": {
   "codemirror_mode": {
    "name": "ipython",
    "version": 3
   },
   "file_extension": ".py",
   "mimetype": "text/x-python",
   "name": "python",
   "nbconvert_exporter": "python",
   "pygments_lexer": "ipython3",
   "version": "3.9.7"
  }
 },
 "nbformat": 4,
 "nbformat_minor": 5
}
