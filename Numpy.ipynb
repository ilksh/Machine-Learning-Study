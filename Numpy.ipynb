{
 "cells": [
  {
   "cell_type": "markdown",
   "id": "9c326f6b",
   "metadata": {},
   "source": [
    "### Numpy\n",
    "\n",
    "- Fast\n",
    "    - complied using C, C++, Fortran\n",
    "    - vectorized code\n",
    "- Easy to perform mathematical operation (Linear Algebra)\n",
    "- Express data as Matrix"
   ]
  },
  {
   "cell_type": "markdown",
   "id": "83f31d16",
   "metadata": {},
   "source": [
    "#### 1. Matrix\n",
    "- 1.1) Generate matrix: np.array, np.zeros, np.arange\n",
    "- 1.2) Shape\n",
    "- 1.3) Indexing\n",
    "\n",
    "#### 2. Linspace / Logspace\n",
    "- Linspace: returns the value of location or interval which was linearly divided\n",
    "- Logspace: returns the value of location or interval whic was divided on a log scale\n",
    "\n",
    "#### 3. Random\n",
    "- 3.1) seed : a numerical value that generates a new set \n",
    "- 3.2) rand : generate random value with uniform distribution\n",
    "- 3.3) randn :  generate random value with normal distribution\n",
    "- 3.4) randint : generate random integer value with uniform distribution\n",
    "- 3.5) suffle :  suffle the data of matrix\n",
    "- 3.6) choice : select the data with specific probability\n",
    "\n",
    "#### 4. Transpose / Concatenation\n",
    "\n",
    "#### 5.  Add / Delete\n",
    "\n",
    "#### 6. Statistical model\n",
    "- 6.1) Basic stats\n",
    "- 6.2) Variance\n",
    "- 6.3) Covariance\n",
    "- 6.4) Correlation Coefficient\n",
    "- 6.5) cofficient of determination: R-squared"
   ]
  },
  {
   "cell_type": "code",
   "execution_count": 2,
   "id": "c51ae4cc",
   "metadata": {},
   "outputs": [],
   "source": [
    "import numpy as np"
   ]
  },
  {
   "cell_type": "code",
   "execution_count": 13,
   "id": "25651837",
   "metadata": {},
   "outputs": [
    {
     "name": "stdout",
     "output_type": "stream",
     "text": [
      "type:  <class 'numpy.ndarray'>\n",
      "[100 200 300]\n",
      "[1 2 3]\n",
      "[4. 5. 6.]\n",
      "[7.+0.j 8.+0.j 9.+0.j]\n"
     ]
    }
   ],
   "source": [
    "# 1. Array\n",
    "# np.array(object, dtype = None)\n",
    "\n",
    "array = np.array([100, 200, 300])\n",
    "print(\"type: \",type(array))\n",
    "print(array)\n",
    "\n",
    "intArray = np.array([1,2,3], dtype = int)\n",
    "print(intArray)\n",
    "\n",
    "floatArray = np.array([4,5,6], dtype = float)\n",
    "print(floatArray)\n",
    "\n",
    "complexArray = np.array([7,8,9], dtype = complex)\n",
    "print(complexArray)"
   ]
  },
  {
   "cell_type": "code",
   "execution_count": 6,
   "id": "6c757815",
   "metadata": {},
   "outputs": [
    {
     "name": "stdout",
     "output_type": "stream",
     "text": [
      "[[0. 0. 0.]\n",
      " [0. 0. 0.]]\n",
      "[0. 0. 0. 0.]\n"
     ]
    }
   ],
   "source": [
    "# initialize \n",
    "# np.zeros(size of matrix)\n",
    "\n",
    "z1 = np.zeros((2,3)) # row = 2, col = 3\n",
    "print(z1)\n",
    "\n",
    "z2 = np.zeros(4)     # row = 1, col = 4\n",
    "print(z2)\n"
   ]
  },
  {
   "cell_type": "code",
   "execution_count": 12,
   "id": "7f9e64ef",
   "metadata": {},
   "outputs": [
    {
     "name": "stdout",
     "output_type": "stream",
     "text": [
      "[0 1 2 3 4]\n",
      "[1 3 5 7 9]\n"
     ]
    }
   ],
   "source": [
    "# arrange\n",
    "# np.arange(start, end, step, dtype)\n",
    "\n",
    "ar1 = np.arange(5) \n",
    "print(ar1)\n",
    "\n",
    "ar2 = np.arange(1,10,2)\n",
    "print(ar2)"
   ]
  },
  {
   "cell_type": "code",
   "execution_count": 15,
   "id": "43ddf583",
   "metadata": {},
   "outputs": [
    {
     "name": "stdout",
     "output_type": "stream",
     "text": [
      "[ 0  1  2  3  4  5  6  7  8  9 10 11]\n",
      "ndim:  1\n",
      "[[ 0  1  2  3]\n",
      " [ 4  5  6  7]\n",
      " [ 8  9 10 11]]\n",
      "ndim:  1\n",
      "(3, 4)\n"
     ]
    }
   ],
   "source": [
    "# other function\n",
    "\n",
    "a1 = np.arange(12)\n",
    "print(a1)\n",
    "# ndarray.ndim -> number of dimension\n",
    "print(\"ndim: \",a1.ndim)\n",
    "\n",
    "# ndarray.shape -> (row, col)\n",
    "# ndarray.reshape(row, col) -> new array\n",
    "\n",
    "a2 = a1.reshape(3,4)\n",
    "print(a2)\n",
    "print(a2.shape)\n"
   ]
  },
  {
   "cell_type": "code",
   "execution_count": 28,
   "id": "b0d304e0",
   "metadata": {},
   "outputs": [
    {
     "name": "stdout",
     "output_type": "stream",
     "text": [
      "[1 2 3]\n",
      "2\n",
      "2\n",
      "[[ 1 99  3]\n",
      " [ 4  5  6]\n",
      " [ 7  8  9]]\n",
      "[[  1  99   3]\n",
      " [100 100 100]\n",
      " [  7   8   9]]\n",
      "[[100 100 100]\n",
      " [  7   8   9]]\n",
      "[[ 99   3]\n",
      " [100 100]\n",
      " [  8   9]]\n"
     ]
    }
   ],
   "source": [
    "# indexing \n",
    "ls = np.array([[1,2,3], [4,5,6], [7,8,9]])\n",
    "# select data\n",
    "print(ls[0])\n",
    "print(ls[0][1])\n",
    "print(ls[0,1])\n",
    "# modify data\n",
    "ls[0][1] = 99\n",
    "print(ls)\n",
    "# broadcasting\n",
    "ls[1] = 100\n",
    "print(ls)\n",
    "# slicing\n",
    "ls2 = ls[1:]\n",
    "print(ls2)\n",
    "\n",
    "ls3 = ls[...,1:]\n",
    "print(ls3)"
   ]
  },
  {
   "cell_type": "code",
   "execution_count": 21,
   "id": "b353875d",
   "metadata": {},
   "outputs": [
    {
     "data": {
      "text/plain": [
       "array([[False, False, False],\n",
       "       [ True,  True,  True],\n",
       "       [False,  True, False]])"
      ]
     },
     "execution_count": 21,
     "metadata": {},
     "output_type": "execute_result"
    }
   ],
   "source": [
    "condition = ls%2 == 0\n",
    "condition"
   ]
  },
  {
   "cell_type": "code",
   "execution_count": 24,
   "id": "f2a4c956",
   "metadata": {},
   "outputs": [
    {
     "data": {
      "text/plain": [
       "array([[  1,  99,   3],\n",
       "       [999, 999, 999],\n",
       "       [  7, 999,   9]])"
      ]
     },
     "execution_count": 24,
     "metadata": {},
     "output_type": "execute_result"
    }
   ],
   "source": [
    "ls[condition] = 999\n",
    "ls"
   ]
  },
  {
   "cell_type": "code",
   "execution_count": 31,
   "id": "cbebad8b",
   "metadata": {},
   "outputs": [
    {
     "data": {
      "text/plain": [
       "<matplotlib.image.AxesImage at 0x7fc0f9083670>"
      ]
     },
     "execution_count": 31,
     "metadata": {},
     "output_type": "execute_result"
    },
    {
     "data": {
      "image/png": "[encoded data removed]",
      "text/plain": [
       "<Figure size 432x288 with 1 Axes>"
      ]
     },
     "metadata": {
      "needs_background": "light"
     },
     "output_type": "display_data"
    }
   ],
   "source": [
    "import matplotlib.pyplot as plt\n",
    "def mandelbrot(h,w,maxit=20, r=2):\n",
    "    x = np.linspace(-2, 1.5, 4*h+1)\n",
    "    y = np.linspace(-1.5, 1.5, 3*w+1)\n",
    "    A, B = np.meshgrid(x,y)\n",
    "    C = A + B*1j\n",
    "    z = np.zeros_like(C)\n",
    "    divtime = maxit + np.zeros(z.shape, dtype=int)\n",
    "    \n",
    "    for i in range(maxit):\n",
    "        z = z**2 + C\n",
    "        diverge = abs(z) > r\n",
    "        div_now = diverge & (divtime == maxit)\n",
    "        divtime[div_now] = i\n",
    "        z[diverge] = r\n",
    "        \n",
    "    return divtime\n",
    "\n",
    "plt.imshow(mandelbrot(400,400))"
   ]
  },
  {
   "cell_type": "code",
   "execution_count": null,
   "id": "81623f0c",
   "metadata": {},
   "outputs": [],
   "source": []
  }
 ],
 "metadata": {
  "kernelspec": {
   "display_name": "Python 3 (ipykernel)",
   "language": "python",
   "name": "python3"
  },
  "language_info": {
   "codemirror_mode": {
    "name": "ipython",
    "version": 3
   },
   "file_extension": ".py",
   "mimetype": "text/x-python",
   "name": "python",
   "nbconvert_exporter": "python",
   "pygments_lexer": "ipython3",
   "version": "3.9.7"
  }
 },
 "nbformat": 4,
 "nbformat_minor": 5
}
