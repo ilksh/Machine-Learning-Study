{
 "cells": [
  {
   "cell_type": "code",
   "execution_count": 11,
   "id": "118977c0",
   "metadata": {},
   "outputs": [
    {
     "data": {
      "text/html": [
       "<div>\n",
       "<style scoped>\n",
       "    .dataframe tbody tr th:only-of-type {\n",
       "        vertical-align: middle;\n",
       "    }\n",
       "\n",
       "    .dataframe tbody tr th {\n",
       "        vertical-align: top;\n",
       "    }\n",
       "\n",
       "    .dataframe thead th {\n",
       "        text-align: right;\n",
       "    }\n",
       "</style>\n",
       "<table border=\"1\" class=\"dataframe\">\n",
       "  <thead>\n",
       "    <tr style=\"text-align: right;\">\n",
       "      <th></th>\n",
       "      <th>CustomerID</th>\n",
       "      <th>Gender</th>\n",
       "      <th>Age</th>\n",
       "      <th>Annual Income (k$)</th>\n",
       "      <th>Spending Score (1-100)</th>\n",
       "    </tr>\n",
       "  </thead>\n",
       "  <tbody>\n",
       "    <tr>\n",
       "      <th>0</th>\n",
       "      <td>1</td>\n",
       "      <td>Male</td>\n",
       "      <td>19</td>\n",
       "      <td>15</td>\n",
       "      <td>39</td>\n",
       "    </tr>\n",
       "    <tr>\n",
       "      <th>1</th>\n",
       "      <td>2</td>\n",
       "      <td>Male</td>\n",
       "      <td>21</td>\n",
       "      <td>15</td>\n",
       "      <td>81</td>\n",
       "    </tr>\n",
       "    <tr>\n",
       "      <th>2</th>\n",
       "      <td>3</td>\n",
       "      <td>Female</td>\n",
       "      <td>20</td>\n",
       "      <td>16</td>\n",
       "      <td>6</td>\n",
       "    </tr>\n",
       "    <tr>\n",
       "      <th>3</th>\n",
       "      <td>4</td>\n",
       "      <td>Female</td>\n",
       "      <td>23</td>\n",
       "      <td>16</td>\n",
       "      <td>77</td>\n",
       "    </tr>\n",
       "    <tr>\n",
       "      <th>4</th>\n",
       "      <td>5</td>\n",
       "      <td>Female</td>\n",
       "      <td>31</td>\n",
       "      <td>17</td>\n",
       "      <td>40</td>\n",
       "    </tr>\n",
       "    <tr>\n",
       "      <th>...</th>\n",
       "      <td>...</td>\n",
       "      <td>...</td>\n",
       "      <td>...</td>\n",
       "      <td>...</td>\n",
       "      <td>...</td>\n",
       "    </tr>\n",
       "    <tr>\n",
       "      <th>195</th>\n",
       "      <td>196</td>\n",
       "      <td>Female</td>\n",
       "      <td>35</td>\n",
       "      <td>120</td>\n",
       "      <td>79</td>\n",
       "    </tr>\n",
       "    <tr>\n",
       "      <th>196</th>\n",
       "      <td>197</td>\n",
       "      <td>Female</td>\n",
       "      <td>45</td>\n",
       "      <td>126</td>\n",
       "      <td>28</td>\n",
       "    </tr>\n",
       "    <tr>\n",
       "      <th>197</th>\n",
       "      <td>198</td>\n",
       "      <td>Male</td>\n",
       "      <td>32</td>\n",
       "      <td>126</td>\n",
       "      <td>74</td>\n",
       "    </tr>\n",
       "    <tr>\n",
       "      <th>198</th>\n",
       "      <td>199</td>\n",
       "      <td>Male</td>\n",
       "      <td>32</td>\n",
       "      <td>137</td>\n",
       "      <td>18</td>\n",
       "    </tr>\n",
       "    <tr>\n",
       "      <th>199</th>\n",
       "      <td>200</td>\n",
       "      <td>Male</td>\n",
       "      <td>30</td>\n",
       "      <td>137</td>\n",
       "      <td>83</td>\n",
       "    </tr>\n",
       "  </tbody>\n",
       "</table>\n",
       "<p>200 rows × 5 columns</p>\n",
       "</div>"
      ],
      "text/plain": [
       "     CustomerID  Gender  Age  Annual Income (k$)  Spending Score (1-100)\n",
       "0             1    Male   19                  15                      39\n",
       "1             2    Male   21                  15                      81\n",
       "2             3  Female   20                  16                       6\n",
       "3             4  Female   23                  16                      77\n",
       "4             5  Female   31                  17                      40\n",
       "..          ...     ...  ...                 ...                     ...\n",
       "195         196  Female   35                 120                      79\n",
       "196         197  Female   45                 126                      28\n",
       "197         198    Male   32                 126                      74\n",
       "198         199    Male   32                 137                      18\n",
       "199         200    Male   30                 137                      83\n",
       "\n",
       "[200 rows x 5 columns]"
      ]
     },
     "execution_count": 11,
     "metadata": {},
     "output_type": "execute_result"
    }
   ],
   "source": [
    "data = pd.read_csv(\"Data set/k_mean_data.csv\")\n",
    "data"
   ]
  },
  {
   "cell_type": "code",
   "execution_count": 12,
   "id": "38a02b8f",
   "metadata": {},
   "outputs": [
    {
     "data": {
      "text/plain": [
       "<matplotlib.collections.PathCollection at 0x7ff1215f7e80>"
      ]
     },
     "execution_count": 12,
     "metadata": {},
     "output_type": "execute_result"
    },
    {
     "data": {
      "image/png": "[encoded data removed]",
      "text/plain": [
       "<Figure size 720x720 with 1 Axes>"
      ]
     },
     "metadata": {
      "needs_background": "light"
     },
     "output_type": "display_data"
    }
   ],
   "source": [
    "df = pd.DataFrame(data)\n",
    "df.columns = [\"CustomerID\", \"Gender\", \"Age\", \"Annual_Income\", \"Spending_Score\"]\n",
    "df['GroupID'] = [0] * len(df)\n",
    "\n",
    "plt.figure(figsize=(10,10))\n",
    "plt.scatter(data.Annual_Income, data.Spending_Score)"
   ]
  },
  {
   "cell_type": "code",
   "execution_count": 13,
   "id": "48f7f8c2",
   "metadata": {},
   "outputs": [],
   "source": [
    "def dist(x1, y1, x2, y2):\n",
    "    return (x1-x2)**2 + (y1-y2)**2"
   ]
  },
  {
   "cell_type": "code",
   "execution_count": 14,
   "id": "737c6a8c",
   "metadata": {},
   "outputs": [
    {
     "name": "stdout",
     "output_type": "stream",
     "text": [
      "[(43, 37), (79, 18), (116, 85), (71, 4), (122, 22)]\n"
     ]
    }
   ],
   "source": [
    "k = 5\n",
    "centroid = []\n",
    "\n",
    "# randomly set the centroid\n",
    "for _ in range(k):\n",
    "    x = np.random.randint(min(df.Annual_Income), max(df.Annual_Income))\n",
    "    y = np.random.randint(min(df.Spending_Score), max(df.Spending_Score))\n",
    "    centroid.append((x,y))\n",
    "    \n",
    "print(centroid)"
   ]
  },
  {
   "cell_type": "code",
   "execution_count": 21,
   "id": "0f049466",
   "metadata": {},
   "outputs": [],
   "source": [
    "# find which cluster the point belongs to\n",
    "\n",
    "def find_cluster(x, y):\n",
    "    cluster_idx= 0\n",
    "    d = dist(x, y, centroid[0][0], centroid[0][1])\n",
    "    \n",
    "    for i in range(k):\n",
    "        cur_dist = dist(x, y, centroid[i][0], centroid[i][1])\n",
    "        if cur_dist < d:\n",
    "            d = cur_dist\n",
    "            cluster_idx = i\n",
    "            \n",
    "    return cluster_idx"
   ]
  },
  {
   "cell_type": "code",
   "execution_count": 27,
   "id": "4bdb517c",
   "metadata": {},
   "outputs": [
    {
     "data": {
      "text/plain": [
       "0      0\n",
       "1      0\n",
       "2      0\n",
       "3      0\n",
       "4      0\n",
       "      ..\n",
       "195    2\n",
       "196    4\n",
       "197    2\n",
       "198    4\n",
       "199    2\n",
       "Name: GroupID, Length: 200, dtype: int64"
      ]
     },
     "execution_count": 27,
     "metadata": {},
     "output_type": "execute_result"
    }
   ],
   "source": [
    "# assign groupId to all points\n",
    "for index, row in df.iterrows():\n",
    "    df.loc[index, 'GroupID'] = find_cluster(row.Annual_Income, row.Spending_Score)\n",
    "    \n",
    "df.GroupID"
   ]
  },
  {
   "cell_type": "code",
   "execution_count": 26,
   "id": "f0db919b",
   "metadata": {},
   "outputs": [
    {
     "data": {
      "image/png": "[encoded data removed]",
      "text/plain": [
       "<Figure size 720x720 with 1 Axes>"
      ]
     },
     "metadata": {
      "needs_background": "light"
     },
     "output_type": "display_data"
    }
   ],
   "source": [
    "# drawing scatter plot after assign group\n",
    "\n",
    "group_color = ['orange', 'blue', 'green', 'red', 'yellow']\n",
    "\n",
    "plt.figure(figsize = (10,  10))\n",
    "for index, row in df.iterrows():\n",
    "    plt.scatter(row.Annual_Income, row.Spending_Score, color = group_color[row.GroupID])"
   ]
  },
  {
   "cell_type": "code",
   "execution_count": 29,
   "id": "72cb38be",
   "metadata": {},
   "outputs": [
    {
     "name": "stdout",
     "output_type": "stream",
     "text": [
      "[[44.37903225806452, 50.0], [82.38095238095238, 22.904761904761905], [86.92105263157895, 82.42105263157895], [74.88888888888889, 6.0], [112.75, 21.625]]\n"
     ]
    }
   ],
   "source": [
    "def centroid_movement():\n",
    "    temp = []\n",
    "    \n",
    "    for _ in range(k):\n",
    "        temp.append([0,0])\n",
    "        \n",
    "    for index, row in df.iterrows():\n",
    "        temp[row.GroupID][0] += row.Annual_Income\n",
    "        temp[row.GroupID][1] += row.Spending_Score\n",
    "            \n",
    "    for i in range(k):\n",
    "        cnt = len(df.loc[df['GroupID'] == i])\n",
    "        temp[i][0] /= cnt\n",
    "        temp[i][1] /= cnt\n",
    "            \n",
    "        centroid[i] = temp[i]\n",
    "\n",
    "centroid_movement()\n",
    "print(centroid)"
   ]
  },
  {
   "cell_type": "code",
   "execution_count": 33,
   "id": "23dd1357",
   "metadata": {},
   "outputs": [],
   "source": [
    "# assign all numbers to each group\n",
    "\n",
    "def centroid_assignment():\n",
    "    updated = False\n",
    "    for index, row in df.iterrows():\n",
    "        past = df.loc[index, 'GroupID']\n",
    "        cur = find_cluster(row.Annual_Income, row.Spending_Score)\n",
    "        df.loc[index, 'GroupID'] = cur\n",
    "        \n",
    "        if past != cur:\n",
    "            updated = True\n",
    "            \n",
    "    return updated"
   ]
  },
  {
   "cell_type": "code",
   "execution_count": 39,
   "id": "10d54302",
   "metadata": {},
   "outputs": [],
   "source": [
    "def optimization():\n",
    "    while True:\n",
    "        if centroid_assignment() is False:\n",
    "            break\n",
    "\n",
    "        centroid_movement()"
   ]
  },
  {
   "cell_type": "code",
   "execution_count": 40,
   "id": "82598f58",
   "metadata": {},
   "outputs": [
    {
     "data": {
      "image/png": "[encoded data removed]",
      "text/plain": [
       "<Figure size 720x720 with 1 Axes>"
      ]
     },
     "metadata": {
      "needs_background": "light"
     },
     "output_type": "display_data"
    }
   ],
   "source": [
    "optimization()\n",
    "\n",
    "group_color = ['orange', 'blue', 'green', 'red', 'yellow']\n",
    "\n",
    "plt.figure(figsize = (10,  10))\n",
    "for index, row in df.iterrows():\n",
    "  plt.scatter(row.Annual_Income, row.Spending_Score, color = group_color[row.GroupID])"
   ]
  }
 ],
 "metadata": {
  "kernelspec": {
   "display_name": "Python 3 (ipykernel)",
   "language": "python",
   "name": "python3"
  },
  "language_info": {
   "codemirror_mode": {
    "name": "ipython",
    "version": 3
   },
   "file_extension": ".py",
   "mimetype": "text/x-python",
   "name": "python",
   "nbconvert_exporter": "python",
   "pygments_lexer": "ipython3",
   "version": "3.9.12"
  }
 },
 "nbformat": 4,
 "nbformat_minor": 5
}
